{
 "cells": [
  {
   "cell_type": "markdown",
   "metadata": {},
   "source": [
    "# Advent of Code - Day 6\n"
   ]
  },
  {
   "cell_type": "code",
   "execution_count": 1,
   "metadata": {},
   "outputs": [],
   "source": [
    "const fs = require(\"fs\");\n",
    "const input = fs.readFileSync(\"inputs/6.txt\", \"utf8\").split(\"\\n\");\n"
   ]
  },
  {
   "cell_type": "markdown",
   "metadata": {},
   "source": [
    "## First puzzle\n"
   ]
  },
  {
   "cell_type": "code",
   "execution_count": 2,
   "metadata": {},
   "outputs": [],
   "source": [
    "const exampleInput = `Time:      7  15   30\n",
    "Distance:  9  40  200`.split(\"\\n\");\n"
   ]
  },
  {
   "cell_type": "code",
   "execution_count": 3,
   "metadata": {},
   "outputs": [
    {
     "data": {
      "text/plain": [
       "1159152"
      ]
     },
     "execution_count": 3,
     "metadata": {},
     "output_type": "execute_result"
    }
   ],
   "source": [
    "{\n",
    "  // parse the race data into a usable format\n",
    "  const lines = input;\n",
    "  const times = [...lines[0].match(/\\d+/g)];\n",
    "  const records = [...lines[1].match(/\\d+/g)];\n",
    "  const races = times.map((time, index) => {\n",
    "    return {\n",
    "      time: Number(time),\n",
    "      record: Number(records[index]),\n",
    "    };\n",
    "  });\n",
    "\n",
    "  const waysToWin = (time, record) => {\n",
    "    let t = 0;\n",
    "    let counter = 0;\n",
    "    while (t < time) {\n",
    "      // t is time button is held down, so:\n",
    "      const dist = t * (time - t);\n",
    "      if (dist > record) {\n",
    "        counter++;\n",
    "      }\n",
    "      t++;\n",
    "    }\n",
    "\n",
    "    return counter;\n",
    "  };\n",
    "\n",
    "  races.reduce((acc, race) => acc * waysToWin(race.time, race.record), 1);\n",
    "}\n"
   ]
  },
  {
   "cell_type": "markdown",
   "metadata": {},
   "source": [
    "## Second puzzle\n"
   ]
  },
  {
   "cell_type": "code",
   "execution_count": 4,
   "metadata": {},
   "outputs": [
    {
     "data": {
      "text/plain": [
       "41513103"
      ]
     },
     "execution_count": 4,
     "metadata": {},
     "output_type": "execute_result"
    }
   ],
   "source": [
    "{\n",
    "  // parse the race data into a usable format\n",
    "  const lines = input;\n",
    "  const times = [...lines[0].match(/[\\d\\s]+/g)];\n",
    "  const records = [...lines[1].match(/[\\d\\s]+/g)];\n",
    "  const races = times.map((time, index) => {\n",
    "    return {\n",
    "      time: Number(time.replace(/\\s/g, \"\")),\n",
    "      record: Number(records[index].replace(/\\s/g, \"\")),\n",
    "    };\n",
    "  });\n",
    "\n",
    "  const waysToWin = (time, record) => {\n",
    "    let t = 0;\n",
    "    let counter = 0;\n",
    "    while (t < time) {\n",
    "      // t is time button is held down, so:\n",
    "      const dist = t * (time - t);\n",
    "      if (dist > record) {\n",
    "        counter++;\n",
    "      }\n",
    "      t++;\n",
    "    }\n",
    "\n",
    "    return counter;\n",
    "  };\n",
    "\n",
    "  races.reduce((acc, race) => acc * waysToWin(race.time, race.record), 1);\n",
    "}\n"
   ]
  }
 ],
 "metadata": {
  "kernelspec": {
   "display_name": "JavaScript (Node.js)",
   "language": "javascript",
   "name": "javascript"
  },
  "language_info": {
   "file_extension": ".js",
   "mimetype": "application/javascript",
   "name": "javascript",
   "version": "18.16.0"
  }
 },
 "nbformat": 4,
 "nbformat_minor": 2
}
