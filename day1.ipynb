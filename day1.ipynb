{
 "cells": [
  {
   "cell_type": "markdown",
   "metadata": {},
   "source": [
    "# Advent of Code 2023 - Day 1\n",
    "\n",
    "## First puzzle"
   ]
  },
  {
   "cell_type": "code",
   "execution_count": 1,
   "metadata": {},
   "outputs": [],
   "source": [
    "const exampleInput1 = `1abc2\n",
    "pqr3stu8vwx\n",
    "a1b2c3d4e5f\n",
    "treb7uchet`;\n",
    "\n",
    "const input1 = require('fs').readFileSync('inputs/1.txt', 'utf-8');"
   ]
  },
  {
   "cell_type": "code",
   "execution_count": 2,
   "metadata": {},
   "outputs": [
    {
     "data": {
      "text/plain": [
       "54159"
      ]
     },
     "execution_count": 2,
     "metadata": {},
     "output_type": "execute_result"
    }
   ],
   "source": [
    "input1.split('\\n').reduce((acc, line) => {\n",
    "    const numbers = [...line.matchAll(/\\d/g)];\n",
    "    const firstNumber = Number(numbers[0][0]);\n",
    "    const lastNumber = Number(numbers[numbers.length - 1][0]);\n",
    "    return acc + Number(`${firstNumber}${lastNumber}`);\n",
    "}, 0);"
   ]
  },
  {
   "cell_type": "markdown",
   "metadata": {},
   "source": [
    "## Second puzzle"
   ]
  },
  {
   "cell_type": "code",
   "execution_count": 3,
   "metadata": {},
   "outputs": [],
   "source": [
    "const exampleInput2 = `two1nine\n",
    "eightwothree\n",
    "abcone2threexyz\n",
    "xtwone3four\n",
    "4nineeightseven2\n",
    "zoneight234\n",
    "7pqrstsixteen`"
   ]
  },
  {
   "cell_type": "code",
   "execution_count": 39,
   "metadata": {},
   "outputs": [
    {
     "data": {
      "text/plain": [
       "53866"
      ]
     },
     "execution_count": 39,
     "metadata": {},
     "output_type": "execute_result"
    }
   ],
   "source": [
    "{\n",
    "    const options = ['\\\\d', 'one', 'two', 'three', 'four', 'five', 'six', 'seven', 'eight', 'nine'];\n",
    "\n",
    "    const convertToNumber = (match) => {\n",
    "        const index = options.indexOf(match);\n",
    "        return index > 0 ? index : Number(match);\n",
    "    }\n",
    "\n",
    "    input1.split('\\n').reduce((acc, line) => {\n",
    "        const firstDigit = line.match(new RegExp(`(${options.join('|')})`, 'g'));\n",
    "        const lastDigit = line.split('').reverse().join('').match(new RegExp(`(\\\\d|${options.slice(1).join('|').split('').reverse().join('')})`, 'g'));\n",
    "        const firstNumber = convertToNumber(firstDigit[0]);\n",
    "        const lastNumber = convertToNumber(lastDigit[0].split('').reverse().join(''));\n",
    "        return acc + Number(`${firstNumber}${lastNumber}`);\n",
    "    }, 0);\n",
    "}"
   ]
  }
 ],
 "metadata": {
  "kernelspec": {
   "display_name": "JavaScript (Node.js)",
   "language": "javascript",
   "name": "javascript"
  },
  "language_info": {
   "file_extension": ".js",
   "mimetype": "application/javascript",
   "name": "javascript",
   "version": "18.16.0"
  }
 },
 "nbformat": 4,
 "nbformat_minor": 2
}
