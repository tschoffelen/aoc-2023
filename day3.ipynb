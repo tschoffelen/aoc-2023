{
 "cells": [
  {
   "cell_type": "markdown",
   "metadata": {},
   "source": [
    "# Advent of Code - Day 3"
   ]
  },
  {
   "cell_type": "code",
   "execution_count": 1,
   "metadata": {},
   "outputs": [],
   "source": [
    "const fs = require('fs');\n",
    "const input = fs.readFileSync('inputs/3.txt', 'utf8').split('\\n');"
   ]
  },
  {
   "cell_type": "markdown",
   "metadata": {},
   "source": [
    "## First puzzle"
   ]
  },
  {
   "cell_type": "code",
   "execution_count": 2,
   "metadata": {},
   "outputs": [],
   "source": [
    "const exampleInput = `467..114..\n",
    "...*......\n",
    "..35..633.\n",
    "......#...\n",
    "617*......\n",
    ".....+.58.\n",
    "..592.....\n",
    "......755.\n",
    "...$.*....\n",
    ".664.598..`.split('\\n');"
   ]
  },
  {
   "cell_type": "code",
   "execution_count": 3,
   "metadata": {},
   "outputs": [
    {
     "name": "stdout",
     "output_type": "stream",
     "text": [
      "549908\n"
     ]
    }
   ],
   "source": [
    "{\n",
    "  // first create a two-dimensional map\n",
    "  const map = input.map((line) => line.split(\"\"));\n",
    "\n",
    "  // helper function to find part number\n",
    "  const hasAdjacentSymbol = (y, x, l) => {\n",
    "    for (let dy = -1; dy < 2; dy++) {\n",
    "      for (let dx = -1 - l; dx < 1; dx++) {\n",
    "        if (map[y + dy]?.[x + dx]?.match(/[^\\d\\.]/)) {\n",
    "          return true;\n",
    "        }\n",
    "      }\n",
    "    }\n",
    "\n",
    "    return false;\n",
    "  };\n",
    "\n",
    "  // then walk through it until we find part number\n",
    "  let total = 0;\n",
    "  for (let y = 0; y < map.length; y++) {\n",
    "    for (let x = 0; x < map[y].length; x++) {\n",
    "      let digits = \"\";\n",
    "      while (map[y][x]?.match(/\\d/)) {\n",
    "        digits += map[y][x];\n",
    "        x++;\n",
    "      }\n",
    "      if (!digits) {\n",
    "        continue;\n",
    "      }\n",
    "      if (hasAdjacentSymbol(y, x, digits.length)) {\n",
    "        total += Number(digits);\n",
    "      }\n",
    "    }\n",
    "  }\n",
    "\n",
    "  console.log(total);\n",
    "}"
   ]
  },
  {
   "cell_type": "markdown",
   "metadata": {},
   "source": [
    "## Second puzzle"
   ]
  },
  {
   "cell_type": "code",
   "execution_count": 4,
   "metadata": {},
   "outputs": [
    {
     "name": "stdout",
     "output_type": "stream",
     "text": [
      "81166799\n"
     ]
    }
   ],
   "source": [
    "{\n",
    "  // first create a two-dimensional map\n",
    "  const map = input.map((line) => line.split(\"\"));\n",
    "\n",
    "  // helper function to find part number\n",
    "  const getAdjacentGear = (y, x, l) => {\n",
    "    for (let dy = -1; dy < 2; dy++) {\n",
    "      for (let dx = -1 - l; dx < 1; dx++) {\n",
    "        if (map[y + dy]?.[x + dx] === \"*\") {\n",
    "          return `${y + dy},${x + dx}`;\n",
    "        }\n",
    "      }\n",
    "    }\n",
    "\n",
    "    return false;\n",
    "  };\n",
    "\n",
    "  // then walk through it until we find part number\n",
    "  const gears = {};\n",
    "  for (let y = 0; y < map.length; y++) {\n",
    "    for (let x = 0; x < map[y].length; x++) {\n",
    "      let digits = \"\";\n",
    "      while (map[y][x]?.match(/\\d/)) {\n",
    "        digits += map[y][x];\n",
    "        x++;\n",
    "      }\n",
    "      if (!digits) {\n",
    "        continue;\n",
    "      }\n",
    "      // value is a number\n",
    "      const gear = getAdjacentGear(y, x, digits.length);\n",
    "      if (gear) {\n",
    "        if (!gears[gear]) gears[gear] = [];\n",
    "        gears[gear].push(Number(digits));\n",
    "      }\n",
    "    }\n",
    "  }\n",
    "\n",
    "  console.log(\n",
    "    Object.values(gears)\n",
    "      .filter((numbers) => numbers.length === 2)\n",
    "      .map((numbers) => numbers[0] * numbers[1])\n",
    "      .reduce((acc, ratio) => acc + ratio, 0)\n",
    "  );\n",
    "}"
   ]
  }
 ],
 "metadata": {
  "kernelspec": {
   "display_name": "JavaScript (Node.js)",
   "language": "javascript",
   "name": "javascript"
  },
  "language_info": {
   "file_extension": ".js",
   "mimetype": "application/javascript",
   "name": "javascript",
   "version": "18.16.0"
  }
 },
 "nbformat": 4,
 "nbformat_minor": 2
}
