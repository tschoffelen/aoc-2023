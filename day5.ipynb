{
 "cells": [
  {
   "cell_type": "markdown",
   "metadata": {},
   "source": [
    "# Advent of Code - Day 5\n"
   ]
  },
  {
   "cell_type": "code",
   "execution_count": 2,
   "metadata": {},
   "outputs": [],
   "source": [
    "const fs = require(\"fs\");\n",
    "const input = fs.readFileSync(\"inputs/5.txt\", \"utf8\").split(\"\\n\");\n"
   ]
  },
  {
   "cell_type": "markdown",
   "metadata": {},
   "source": [
    "## First puzzle\n"
   ]
  },
  {
   "cell_type": "code",
   "execution_count": 3,
   "metadata": {},
   "outputs": [],
   "source": [
    "const exampleInput = `seeds: 79 14 55 13\n",
    "\n",
    "seed-to-soil map:\n",
    "50 98 2\n",
    "52 50 48\n",
    "\n",
    "soil-to-fertilizer map:\n",
    "0 15 37\n",
    "37 52 2\n",
    "39 0 15\n",
    "\n",
    "fertilizer-to-water map:\n",
    "49 53 8\n",
    "0 11 42\n",
    "42 0 7\n",
    "57 7 4\n",
    "\n",
    "water-to-light map:\n",
    "88 18 7\n",
    "18 25 70\n",
    "\n",
    "light-to-temperature map:\n",
    "45 77 23\n",
    "81 45 19\n",
    "68 64 13\n",
    "\n",
    "temperature-to-humidity map:\n",
    "0 69 1\n",
    "1 0 69\n",
    "\n",
    "humidity-to-location map:\n",
    "60 56 37\n",
    "56 93 4`.split(\"\\n\");\n"
   ]
  },
  {
   "cell_type": "code",
   "execution_count": 4,
   "metadata": {},
   "outputs": [
    {
     "name": "stdout",
     "output_type": "stream",
     "text": [
      "600279879\n"
     ]
    }
   ],
   "source": [
    "{\n",
    "  let lines = input;\n",
    "  const seeds = lines[0].split(\"seeds: \")[1].split(\" \");\n",
    "  let maps = lines\n",
    "    .slice(2)\n",
    "    .join(\"\\n\")\n",
    "    .split(\"\\n\\n\")\n",
    "    .map((str) => {\n",
    "      let lines = str.split(\"\\n\");\n",
    "      const title = lines.shift() || \"\";\n",
    "      const [from, , to] = title.split(\" \")[0].split(\"-\");\n",
    "      return {\n",
    "        from,\n",
    "        to,\n",
    "        rules: lines.map((line) => {\n",
    "          const [destStart, srcStart, len] = line.split(\" \");\n",
    "          return {\n",
    "            dest: Number(destStart),\n",
    "            src: Number(srcStart),\n",
    "            len: Number(len),\n",
    "          };\n",
    "        }),\n",
    "      };\n",
    "    });\n",
    "\n",
    "  const locations = [];\n",
    "  for (const seedStr of seeds) {\n",
    "    const seed = Number(seedStr);\n",
    "    let srcType = \"seed\";\n",
    "    let id = seed;\n",
    "    while (srcType !== \"location\") {\n",
    "      const map = maps.find(({ from }) => from === srcType);\n",
    "      if (!map) break;\n",
    "      let newId = id;\n",
    "      for (const { dest, src, len } of map.rules) {\n",
    "        if (id >= src && id < src + len) {\n",
    "          newId = dest + (id - src);\n",
    "        }\n",
    "      }\n",
    "      //console.log(`${srcType} ${id} -> ${map.to} ${newId}`);\n",
    "      srcType = map.to;\n",
    "      id = newId;\n",
    "    }\n",
    "    locations.push(id);\n",
    "  }\n",
    "\n",
    "  console.log(locations.sort((a, b) => a - b)[0]);\n",
    "}\n"
   ]
  },
  {
   "cell_type": "markdown",
   "metadata": {},
   "source": [
    "## Second puzzle\n"
   ]
  },
  {
   "cell_type": "code",
   "execution_count": 5,
   "metadata": {},
   "outputs": [
    {
     "name": "stdout",
     "output_type": "stream",
     "text": [
      "20191102\n"
     ]
    }
   ],
   "source": [
    "{\n",
    "  let lines = input;\n",
    "  const seeds = lines[0].split(\"seeds: \")[1].split(\" \");\n",
    "  let maps = lines\n",
    "    .slice(2)\n",
    "    .join(\"\\n\")\n",
    "    .split(\"\\n\\n\")\n",
    "    .map((str) => {\n",
    "      let lines = str.split(\"\\n\");\n",
    "      const title = lines.shift() || \"\";\n",
    "      const [from, , to] = title.split(\" \")[0].split(\"-\");\n",
    "      return {\n",
    "        from,\n",
    "        to,\n",
    "        rules: lines.map((line) => {\n",
    "          const [destStart, srcStart, len] = line.split(\" \");\n",
    "          return {\n",
    "            dest: Number(destStart),\n",
    "            src: Number(srcStart),\n",
    "            len: Number(len),\n",
    "          };\n",
    "        }),\n",
    "      };\n",
    "    })\n",
    "    .reduce((acc, map) => {\n",
    "      acc[map.from] = map;\n",
    "      return acc;\n",
    "    }, {});\n",
    "\n",
    "  let lowest = 0;\n",
    "  let index = 0;\n",
    "  while (index < seeds.length) {\n",
    "    let seed = Number(seeds[index]);\n",
    "    const end = seed + Number(seeds[index + 1]);\n",
    "    index += 2;\n",
    "\n",
    "    while (seed < end) {\n",
    "      let srcType = \"seed\";\n",
    "      let id = seed;\n",
    "      while (srcType !== \"location\") {\n",
    "        let newId = id;\n",
    "        for (const { dest, src, len } of maps[srcType].rules) {\n",
    "          if (id >= src && id < src + len) {\n",
    "            newId = dest + (id - src);\n",
    "          }\n",
    "        }\n",
    "        srcType = maps[srcType].to;\n",
    "        id = newId;\n",
    "      }\n",
    "      if (!lowest || lowest > id) {\n",
    "        lowest = id;\n",
    "      }\n",
    "      seed++;\n",
    "    }\n",
    "  }\n",
    "\n",
    "  console.log(lowest);\n",
    "}\n"
   ]
  }
 ],
 "metadata": {
  "kernelspec": {
   "display_name": "JavaScript (Node.js)",
   "language": "javascript",
   "name": "javascript"
  },
  "language_info": {
   "file_extension": ".js",
   "mimetype": "application/javascript",
   "name": "javascript",
   "version": "18.16.0"
  }
 },
 "nbformat": 4,
 "nbformat_minor": 2
}
