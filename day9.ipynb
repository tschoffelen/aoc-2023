{
 "cells": [
  {
   "cell_type": "markdown",
   "metadata": {},
   "source": [
    "# Advent of Code - Day 9\n"
   ]
  },
  {
   "cell_type": "code",
   "execution_count": 1,
   "metadata": {},
   "outputs": [],
   "source": [
    "const fs = require(\"fs\");\n",
    "const input = fs.readFileSync(\"inputs/9.txt\", \"utf8\").split(\"\\n\");\n"
   ]
  },
  {
   "cell_type": "markdown",
   "metadata": {},
   "source": [
    "## First puzzle\n"
   ]
  },
  {
   "cell_type": "code",
   "execution_count": 2,
   "metadata": {},
   "outputs": [],
   "source": [
    "const exampleInput = `0 3 6 9 12 15\n",
    "1 3 6 10 15 21\n",
    "10 13 16 21 30 45`.split(\"\\n\");\n"
   ]
  },
  {
   "cell_type": "code",
   "execution_count": 25,
   "metadata": {},
   "outputs": [
    {
     "name": "stdout",
     "output_type": "stream",
     "text": [
      "1938800261\n"
     ]
    }
   ],
   "source": [
    "{\n",
    "  const sum = (arr) => arr.reduce((acc, i) => acc + i, 0);\n",
    "\n",
    "  const extrapolate = (sequence) => {\n",
    "    let last = sequence.at(-1);\n",
    "    for (let i = 1; i < sequence.length; ++i) {\n",
    "      for (let j = sequence.length - 1; j >= i; --j) {\n",
    "        sequence[j] -= sequence[j - 1];\n",
    "      }\n",
    "      last += sequence.at(-1);\n",
    "    }\n",
    "    return last;\n",
    "  };\n",
    "\n",
    "  console.log(\n",
    "    sum(input.map((line) => line.split(\" \").map(Number)).map(extrapolate))\n",
    "  );\n",
    "}\n"
   ]
  },
  {
   "cell_type": "markdown",
   "metadata": {},
   "source": [
    "## Second puzzle\n"
   ]
  },
  {
   "cell_type": "code",
   "execution_count": 26,
   "metadata": {},
   "outputs": [
    {
     "name": "stdout",
     "output_type": "stream",
     "text": [
      "1112\n"
     ]
    }
   ],
   "source": [
    "{\n",
    "  const sum = (arr) => arr.reduce((acc, i) => acc + i, 0);\n",
    "\n",
    "  const extrapolate = (sequence) => {\n",
    "    sequence = sequence.reverse();\n",
    "    let last = sequence.at(-1);\n",
    "    for (let i = 1; i < sequence.length; ++i) {\n",
    "      for (let j = sequence.length - 1; j >= i; --j) {\n",
    "        sequence[j] -= sequence[j - 1];\n",
    "      }\n",
    "      last += sequence.at(-1);\n",
    "    }\n",
    "    return last;\n",
    "  };\n",
    "\n",
    "  console.log(\n",
    "    sum(input.map((line) => line.split(\" \").map(Number)).map(extrapolate))\n",
    "  );\n",
    "}\n"
   ]
  }
 ],
 "metadata": {
  "kernelspec": {
   "display_name": "JavaScript (Node.js)",
   "language": "javascript",
   "name": "javascript"
  },
  "language_info": {
   "file_extension": ".js",
   "mimetype": "application/javascript",
   "name": "javascript",
   "version": "18.16.0"
  }
 },
 "nbformat": 4,
 "nbformat_minor": 2
}
