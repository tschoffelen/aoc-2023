{
 "cells": [
  {
   "cell_type": "markdown",
   "metadata": {},
   "source": [
    "# Advent of Code - Day 2"
   ]
  },
  {
   "cell_type": "code",
   "execution_count": 1,
   "metadata": {},
   "outputs": [],
   "source": [
    "const fs = require('fs');\n",
    "const input = fs.readFileSync('inputs/2.txt', 'utf8').split('\\n');"
   ]
  },
  {
   "cell_type": "markdown",
   "metadata": {},
   "source": [
    "## First puzzle"
   ]
  },
  {
   "cell_type": "code",
   "execution_count": 5,
   "metadata": {},
   "outputs": [],
   "source": [
    "const exampleInput = `Game 1: 3 blue, 4 red; 1 red, 2 green, 6 blue; 2 green\n",
    "Game 2: 1 blue, 2 green; 3 green, 4 blue, 1 red; 1 green, 1 blue\n",
    "Game 3: 8 green, 6 blue, 20 red; 5 blue, 4 red, 13 green; 5 green, 1 red\n",
    "Game 4: 1 green, 3 red, 6 blue; 3 green, 6 red; 3 green, 15 blue, 14 red\n",
    "Game 5: 6 red, 1 blue, 3 green; 2 blue, 1 red, 2 green`.split('\\n');"
   ]
  },
  {
   "cell_type": "code",
   "execution_count": 3,
   "metadata": {},
   "outputs": [
    {
     "data": {
      "text/plain": [
       "2716"
      ]
     },
     "execution_count": 3,
     "metadata": {},
     "output_type": "execute_result"
    }
   ],
   "source": [
    "{\n",
    "  const cubesPerGame = input.map((game) => {\n",
    "    const cubes = [];\n",
    "    const [gameName, description] = game.split(\":\");\n",
    "    const id = Number(gameName.replace(\"Game \", \"\"));\n",
    "    const grabs = description.split(\"; \");\n",
    "    for (const grab of grabs) {\n",
    "      for (const combo of grab.trim().split(\", \")) {\n",
    "        const [count, color] = combo.split(\" \");\n",
    "        cubes.push([color, Number(count)]);\n",
    "      }\n",
    "    }\n",
    "    return { id, cubes };\n",
    "  });\n",
    "\n",
    "  const maxCubesPerColor = {\n",
    "    red: 12,\n",
    "    green: 13,\n",
    "    blue: 14,\n",
    "  };\n",
    "\n",
    "  cubesPerGame\n",
    "    .filter((game) => {\n",
    "      for (const [color, count] of game.cubes) {\n",
    "        if (count > maxCubesPerColor[color]) {\n",
    "          return false;\n",
    "        }\n",
    "      }\n",
    "      return true;\n",
    "    })\n",
    "    .reduce((acc, game) => acc + game.id, 0);\n",
    "}"
   ]
  },
  {
   "cell_type": "markdown",
   "metadata": {},
   "source": [
    "## Second puzzle"
   ]
  },
  {
   "cell_type": "code",
   "execution_count": 4,
   "metadata": {},
   "outputs": [
    {
     "data": {
      "text/plain": [
       "72227"
      ]
     },
     "execution_count": 4,
     "metadata": {},
     "output_type": "execute_result"
    }
   ],
   "source": [
    "{\n",
    "  const cubesPerGame = input.map((game) => {\n",
    "    const cubes = { red: 0, green: 0, blue: 0 };\n",
    "    const [gameName, description] = game.split(\":\");\n",
    "    const id = Number(gameName.replace(\"Game \", \"\"));\n",
    "    const grabs = description.split(\"; \");\n",
    "    for (const grab of grabs) {\n",
    "      for (const combo of grab.trim().split(\", \")) {\n",
    "        let [count, color] = combo.split(\" \");\n",
    "        const num = Number(count);\n",
    "        if (num > cubes[color]) {\n",
    "          cubes[color] = num;\n",
    "        }\n",
    "      }\n",
    "    }\n",
    "    return { id, cubes, power: cubes.red * cubes.green * cubes.blue };\n",
    "  });\n",
    "\n",
    "  cubesPerGame.reduce((acc, game) => acc + game.power, 0);\n",
    "}"
   ]
  }
 ],
 "metadata": {
  "kernelspec": {
   "display_name": "JavaScript (Node.js)",
   "language": "javascript",
   "name": "javascript"
  },
  "language_info": {
   "file_extension": ".js",
   "mimetype": "application/javascript",
   "name": "javascript",
   "version": "18.16.0"
  }
 },
 "nbformat": 4,
 "nbformat_minor": 2
}
