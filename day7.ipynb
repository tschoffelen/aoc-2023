{
 "cells": [
  {
   "cell_type": "markdown",
   "metadata": {},
   "source": [
    "# Advent of Code - Day 7\n"
   ]
  },
  {
   "cell_type": "code",
   "execution_count": 1,
   "metadata": {},
   "outputs": [],
   "source": [
    "const fs = require(\"fs\");\n",
    "const input = fs.readFileSync(\"inputs/7.txt\", \"utf8\").split(\"\\n\");\n"
   ]
  },
  {
   "cell_type": "markdown",
   "metadata": {},
   "source": [
    "## First puzzle\n"
   ]
  },
  {
   "cell_type": "code",
   "execution_count": 2,
   "metadata": {},
   "outputs": [],
   "source": [
    "const exampleInput = `32T3K 765\n",
    "T55J5 684\n",
    "KK677 28\n",
    "KTJJT 220\n",
    "QQQJA 483`.split(\"\\n\");\n"
   ]
  },
  {
   "cell_type": "code",
   "execution_count": 3,
   "metadata": {},
   "outputs": [
    {
     "name": "stdout",
     "output_type": "stream",
     "text": [
      "249390788\n"
     ]
    }
   ],
   "source": [
    "{\n",
    "  const strengths = \"AKQJT98765432\".split(\"\").reverse();\n",
    "\n",
    "  const numRepeats = (arr) => {\n",
    "    const chars = arr.reduce((acc, item) => {\n",
    "      if (!acc[item]) acc[item] = 0;\n",
    "      acc[item]++;\n",
    "\n",
    "      return acc;\n",
    "    }, {});\n",
    "\n",
    "    return Object.values(chars).reduce(\n",
    "      (acc, count) => (count > acc ? count : acc),\n",
    "      0\n",
    "    );\n",
    "  };\n",
    "\n",
    "  const numUnique = (arr) => {\n",
    "    return [...new Set(arr)].length;\n",
    "  };\n",
    "\n",
    "  const getHandType = (h) => {\n",
    "    const u = numUnique(h);\n",
    "    const r = numRepeats(h);\n",
    "    if (u === 1) {\n",
    "      return 7; // five of a kind\n",
    "    }\n",
    "    if (u === 2 && r === 4) {\n",
    "      return 6; // four of a kind\n",
    "    }\n",
    "    if (u === 2 && r === 3) {\n",
    "      return 5; // full house\n",
    "    }\n",
    "    if (u === 3 && r === 3) {\n",
    "      return 4; // three of a kind\n",
    "    }\n",
    "    if (u === 3 && r === 2) {\n",
    "      return 3; // two pair (??)\n",
    "    }\n",
    "    if (u === 4 && r === 2) {\n",
    "      return 2; // one pair\n",
    "    }\n",
    "    return 1;\n",
    "  };\n",
    "\n",
    "  const getHandScore = (hand) => {\n",
    "    const h = hand.split(\"\");\n",
    "    return h.reduce(\n",
    "      (acc, card) => `${acc}${strengths.indexOf(card) + 10}`,\n",
    "      getHandType(h)\n",
    "    );\n",
    "  };\n",
    "\n",
    "  const scoredHands = input\n",
    "    .map((line) => {\n",
    "      const [hand, bet] = line.split(\" \");\n",
    "      const score = getHandScore(hand);\n",
    "      return [hand, bet, score];\n",
    "    })\n",
    "    .sort((a, b) => a[2] - b[2]);\n",
    "\n",
    "  console.log(\n",
    "    scoredHands.reduce((acc, hand, index) => acc + hand[1] * (index + 1), 0)\n",
    "  );\n",
    "}\n"
   ]
  },
  {
   "cell_type": "markdown",
   "metadata": {},
   "source": [
    "## Second puzzle\n"
   ]
  },
  {
   "cell_type": "code",
   "execution_count": 4,
   "metadata": {},
   "outputs": [
    {
     "name": "stdout",
     "output_type": "stream",
     "text": [
      "248750248\n"
     ]
    }
   ],
   "source": [
    "{\n",
    "  const strengths = \"AKQT98765432J\".split(\"\").reverse();\n",
    "\n",
    "  const numRepeats = (arr) => {\n",
    "    const chars = arr.reduce((acc, item) => {\n",
    "      if (!acc[item]) acc[item] = 0;\n",
    "      acc[item]++;\n",
    "\n",
    "      return acc;\n",
    "    }, {});\n",
    "\n",
    "    return (\n",
    "      Object.entries(chars).reduce(\n",
    "        (acc, [item, count]) => (count > acc && item !== \"J\" ? count : acc),\n",
    "        0\n",
    "      ) + (chars[\"J\"] || 0)\n",
    "    );\n",
    "  };\n",
    "\n",
    "  const numUnique = (arr) => {\n",
    "    let len = [...new Set(arr.filter((i) => i !== \"J\"))].length;\n",
    "    return len;\n",
    "  };\n",
    "\n",
    "  const getHandType = (h) => {\n",
    "    const u = numUnique(h);\n",
    "    const r = numRepeats(h);\n",
    "    if (u === 1 || u === 0) {\n",
    "      return 7; // five of a kind\n",
    "    }\n",
    "    if (u === 2 && r === 4) {\n",
    "      return 6; // four of a kind\n",
    "    }\n",
    "    if (u === 2 && r === 3) {\n",
    "      return 5; // full house\n",
    "    }\n",
    "    if (u === 3 && r === 3) {\n",
    "      return 4; // three of a kind\n",
    "    }\n",
    "    if (u === 3 && r === 2) {\n",
    "      return 3; // two pair (??)\n",
    "    }\n",
    "    if (u === 4 && r === 2) {\n",
    "      return 2; // one pair\n",
    "    }\n",
    "    return 1;\n",
    "  };\n",
    "\n",
    "  const getHandScore = (hand) => {\n",
    "    const h = hand.split(\"\");\n",
    "    return h.reduce(\n",
    "      (acc, card) => `${acc}${strengths.indexOf(card) + 10}`,\n",
    "      getHandType(h)\n",
    "    );\n",
    "  };\n",
    "\n",
    "  const scoredHands = input\n",
    "    .map((line) => {\n",
    "      const [hand, bet] = line.split(\" \");\n",
    "      const score = getHandScore(hand);\n",
    "      return [hand, bet, score];\n",
    "    })\n",
    "    .sort((a, b) => a[2] - b[2]);\n",
    "\n",
    "  console.log(\n",
    "    scoredHands.reduce((acc, hand, index) => acc + hand[1] * (index + 1), 0)\n",
    "  );\n",
    "}\n"
   ]
  }
 ],
 "metadata": {
  "kernelspec": {
   "display_name": "JavaScript (Node.js)",
   "language": "javascript",
   "name": "javascript"
  },
  "language_info": {
   "file_extension": ".js",
   "mimetype": "application/javascript",
   "name": "javascript",
   "version": "18.16.0"
  }
 },
 "nbformat": 4,
 "nbformat_minor": 2
}
