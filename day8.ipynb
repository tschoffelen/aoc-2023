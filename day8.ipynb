{
 "cells": [
  {
   "cell_type": "markdown",
   "metadata": {},
   "source": [
    "# Advent of Code - Day 8\n"
   ]
  },
  {
   "cell_type": "code",
   "execution_count": 1,
   "metadata": {},
   "outputs": [],
   "source": [
    "const fs = require(\"fs\");\n",
    "const input = fs.readFileSync(\"inputs/8.txt\", \"utf8\").split(\"\\n\");\n"
   ]
  },
  {
   "cell_type": "markdown",
   "metadata": {},
   "source": [
    "## First puzzle\n"
   ]
  },
  {
   "cell_type": "code",
   "execution_count": 2,
   "metadata": {},
   "outputs": [],
   "source": [
    "const exampleInput = `LR\n",
    "\n",
    "11A = (11B, XXX)\n",
    "11B = (XXX, 11Z)\n",
    "11Z = (11B, XXX)\n",
    "22A = (22B, XXX)\n",
    "22B = (22C, 22C)\n",
    "22C = (22Z, 22Z)\n",
    "22Z = (22B, 22B)\n",
    "XXX = (XXX, XXX)`.split(\"\\n\");\n"
   ]
  },
  {
   "cell_type": "code",
   "execution_count": 3,
   "metadata": {},
   "outputs": [
    {
     "name": "stdout",
     "output_type": "stream",
     "text": [
      "12361\n"
     ]
    }
   ],
   "source": [
    "{\n",
    "  const lines = input;\n",
    "  const nodes = lines.slice(2).reduce((acc, line) => {\n",
    "    const segments = line.split(\" = \");\n",
    "    acc[segments[0]] = [\n",
    "      segments[1].substring(1, 4),\n",
    "      segments[1].substring(6, 9),\n",
    "    ];\n",
    "    return acc;\n",
    "  }, {});\n",
    "\n",
    "  let currentNode = \"AAA\";\n",
    "  let destinationNode = \"ZZZ\";\n",
    "  let instructions = [];\n",
    "  let stepsTaken = 0;\n",
    "  while (currentNode !== destinationNode) {\n",
    "    if (!instructions.length) {\n",
    "      instructions = lines[0].split(\"\");\n",
    "    }\n",
    "    const path = nodes[currentNode];\n",
    "    const direction = instructions.shift();\n",
    "    if (direction === \"L\") {\n",
    "      currentNode = path[0];\n",
    "    } else {\n",
    "      currentNode = path[1];\n",
    "    }\n",
    "    stepsTaken++;\n",
    "  }\n",
    "\n",
    "  console.log(stepsTaken);\n",
    "}\n"
   ]
  },
  {
   "cell_type": "markdown",
   "metadata": {},
   "source": [
    "## Second puzzle\n"
   ]
  },
  {
   "cell_type": "code",
   "execution_count": 5,
   "metadata": {},
   "outputs": [
    {
     "name": "stdout",
     "output_type": "stream",
     "text": [
      "18215611419223\n"
     ]
    }
   ],
   "source": [
    "{\n",
    "  const lines = input;\n",
    "  const nodes = lines.slice(2).reduce((acc, line) => {\n",
    "    const segments = line.split(\" = \");\n",
    "    acc[segments[0]] = [\n",
    "      segments[1].substring(1, 4),\n",
    "      segments[1].substring(6, 9),\n",
    "    ];\n",
    "    return acc;\n",
    "  }, {});\n",
    "\n",
    "  let currentNodes = Object.keys(nodes).filter((node) => node.endsWith(\"A\"));\n",
    "  let stepsTaken = 1;\n",
    "\n",
    "  const leastCommonMultiple = (a, b) => (a * b) / greatestCommonDivisor(a, b);\n",
    "  const greatestCommonDivisor = (a, b) => {\n",
    "    const remainder = a % b;\n",
    "    if (remainder === 0) return b;\n",
    "    return greatestCommonDivisor(b, remainder);\n",
    "  };\n",
    "\n",
    "  for (let node of currentNodes) {\n",
    "    let steps = 0;\n",
    "    let instructions = [];\n",
    "    while (!node.endsWith(\"Z\")) {\n",
    "      if (!instructions.length) instructions = lines[0].split(\"\");\n",
    "      const direction = instructions.shift();\n",
    "\n",
    "      const path = nodes[node];\n",
    "      if (direction === \"L\") {\n",
    "        node = path[0];\n",
    "      } else {\n",
    "        node = path[1];\n",
    "      }\n",
    "      steps++;\n",
    "    }\n",
    "    stepsTaken = leastCommonMultiple(stepsTaken, steps);\n",
    "  }\n",
    "\n",
    "  console.log(stepsTaken);\n",
    "}\n"
   ]
  }
 ],
 "metadata": {
  "kernelspec": {
   "display_name": "JavaScript (Node.js)",
   "language": "javascript",
   "name": "javascript"
  },
  "language_info": {
   "file_extension": ".js",
   "mimetype": "application/javascript",
   "name": "javascript",
   "version": "18.16.0"
  }
 },
 "nbformat": 4,
 "nbformat_minor": 2
}
